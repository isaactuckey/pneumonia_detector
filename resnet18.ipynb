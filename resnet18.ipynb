{
 "cells": [
  {
   "cell_type": "code",
   "execution_count": 10,
   "metadata": {},
   "outputs": [],
   "source": [
    "import cv2\n",
    "import matplotlib.pyplot as plt\n",
    "import torch\n",
    "import torch.nn as nn\n",
    "import torchvision.transforms as transforms\n",
    "import wandb\n",
    "\n",
    "from glob import glob\n",
    "from random import seed, shuffle\n",
    "from pytorch_warmup_scheduler import WarmupScheduler\n",
    "from torch.utils.data import DataLoader, Dataset\n",
    "from torchvision import transforms,models\n",
    "from tqdm import tqdm"
   ]
  },
  {
   "cell_type": "code",
   "execution_count": 11,
   "metadata": {},
   "outputs": [
    {
     "name": "stdout",
     "output_type": "stream",
     "text": [
      "Using device: cuda\n"
     ]
    }
   ],
   "source": [
    "# Device Setup\n",
    "device = torch.device('cuda' if torch.cuda.is_available() else 'cpu')\n",
    "print('Using device:', device)"
   ]
  },
  {
   "cell_type": "markdown",
   "metadata": {},
   "source": [
    "Training Configs"
   ]
  },
  {
   "cell_type": "code",
   "execution_count": 12,
   "metadata": {},
   "outputs": [],
   "source": [
    "train_path = '/datasets/chest_xray/train/'\n",
    "val_path = '/datasets/chest_xray/val/'\n",
    "\n",
    "WARMUP_EPOCHS = 3\n",
    "NUM_EPOCHS = 12\n",
    "LEARNING_RATE = 1e-5 # initial lr\n",
    "WEIGHT_DECAY = 1e-5\n",
    "BATCH_SIZE = 4\n",
    "IMAGE_SHAPE = (224, 224)\n",
    "TRAIN_TRANSFORM = transforms.Compose([\n",
    "    transforms.ToTensor(),\n",
    "    transforms.Resize(IMAGE_SHAPE),\n",
    "    transforms.Normalize([0.485, 0.456, 0.406], [0.229, 0.224, 0.225]),\n",
    "    transforms.RandomHorizontalFlip()\n",
    "])\n",
    "VAL_TRANSFORM = transforms.Compose([\n",
    "    transforms.ToTensor(),\n",
    "    transforms.Resize(IMAGE_SHAPE),\n",
    "    transforms.Normalize([0.485, 0.456, 0.406], [0.229, 0.224, 0.225])\n",
    "])\n",
    "LABEL_SMOOTHING = 0.0\n",
    "\n",
    "# Create logging tools\n",
    "# wandb.init(\n",
    "#     project = \"pneumonia-detection-finetune\",\n",
    "\n",
    "#     config = {\n",
    "#         'learning_rate': LEARNING_RATE,\n",
    "#         'weight_decay': WEIGHT_DECAY,\n",
    "#         'epochs': NUM_EPOCHS,\n",
    "#         'warmup_epochs': WARMUP_EPOCHS,\n",
    "#         'batch_size': BATCH_SIZE,\n",
    "#         'image_size': IMAGE_SHAPE,\n",
    "#         'transform': TRAIN_TRANSFORM,\n",
    "#         'label_smoothing': LABEL_SMOOTHING,\n",
    "#         'optimizer': 'Adam',\n",
    "#         'architecture': \"Resnet18\",\n",
    "#         'dataset': 'chest_xray'\n",
    "#     },\n",
    "    \n",
    "#     settings = wandb.Settings(disable_job_creation=True)\n",
    "# )"
   ]
  },
  {
   "cell_type": "markdown",
   "metadata": {},
   "source": [
    "Custom dataset object to use with torch.utils.data.DataLoader"
   ]
  },
  {
   "cell_type": "code",
   "execution_count": 13,
   "metadata": {},
   "outputs": [],
   "source": [
    "def binary_label_smoothing(val, alpha):\n",
    "    return (1-alpha) * val + (alpha / 2)\n",
    "\n",
    "class PneumoniaDataset(Dataset):\n",
    "    '''Dataset object that parses chest x-ray dataset and assigns a binary label to images based on if they are in the NORMAL or PNEUMONIA folders. Paired with a DataLoader it serves the image with transform applied along with its label.\n",
    "    '''\n",
    "    def __init__(self, data_path, transform=None, label_smoothing=0.0):\n",
    "        self.data = data_path\n",
    "        self.transform = transform\n",
    "    \n",
    "        normal_val = binary_label_smoothing(0, label_smoothing)\n",
    "        pneumonia_val = binary_label_smoothing(1, label_smoothing)\n",
    "\n",
    "        normal = [(path, normal_val) for path in glob(data_path+'/NORMAL/*.jpeg')]\n",
    "        pneumonia = [(path, pneumonia_val) for path in glob(data_path+'/PNEUMONIA/*.jpeg')]\n",
    "        self.paths_with_labels = normal + pneumonia\n",
    "        shuffle(self.paths_with_labels)\n",
    "\n",
    "    def __len__(self):\n",
    "        return len(self.paths_with_labels)\n",
    "\n",
    "    def __getitem__(self, index):\n",
    "        path, label = self.paths_with_labels[index]\n",
    "        im = cv2.imread(path)\n",
    "        im = cv2.cvtColor(im, cv2.COLOR_BGR2RGB)\n",
    "        if self.transform:\n",
    "            im = self.transform(im)\n",
    "        return im, label"
   ]
  },
  {
   "cell_type": "markdown",
   "metadata": {},
   "source": [
    "Instantiate data and model"
   ]
  },
  {
   "cell_type": "code",
   "execution_count": 14,
   "metadata": {},
   "outputs": [],
   "source": [
    "train_data = PneumoniaDataset(train_path, TRAIN_TRANSFORM, label_smoothing=LABEL_SMOOTHING)\n",
    "val_data = PneumoniaDataset(val_path, VAL_TRANSFORM, label_smoothing=LABEL_SMOOTHING)\n",
    "train_dataloader = DataLoader(train_data, batch_size=BATCH_SIZE, drop_last=True)\n",
    "val_dataloader = DataLoader(val_data, batch_size=BATCH_SIZE, drop_last=True)\n",
    "\n",
    "# Set weights to None for random weights and 'DEFAULT' for ImageNet pretrain weights.\n",
    "model = models.resnet18(weights='DEFAULT')\n",
    "model.fc = nn.Sequential(nn.Flatten(),\n",
    "    nn.Linear(512, 128),\n",
    "    nn.ReLU(),\n",
    "    nn.Linear(128, 1),\n",
    "    nn.Sigmoid()\n",
    ")\n",
    "model = model.to(device)\n",
    "loss_fn = torch.nn.BCELoss()\n",
    "optimizer = torch.optim.Adam(model.parameters(), lr=LEARNING_RATE, weight_decay=1e-5)\n",
    "warmup_scheduler = WarmupScheduler(optimizer, WARMUP_EPOCHS)"
   ]
  },
  {
   "cell_type": "markdown",
   "metadata": {},
   "source": [
    "Define training loop with appropriate loss/accuracy logging (tensorboard)"
   ]
  },
  {
   "cell_type": "code",
   "execution_count": 15,
   "metadata": {},
   "outputs": [],
   "source": [
    "def num_correct(preds, labels):\n",
    "    correct = 0\n",
    "    for i, val in enumerate(preds):\n",
    "        if (val > 0.5 and labels[i]==binary_label_smoothing(1., LABEL_SMOOTHING)) or (val < 0.5 and labels[i]==binary_label_smoothing(0, LABEL_SMOOTHING)):\n",
    "            correct += 1\n",
    "    return correct\n",
    "\n",
    "\n",
    "def train_epoch(model, optimizer, loss_fn, train_dataloader, epoch):\n",
    "    model.train()\n",
    "\n",
    "    total_loss = 0\n",
    "    total_correct = 0\n",
    "    pbar = tqdm(enumerate(train_dataloader))\n",
    "    pbar.set_description(f\"Epoch {epoch+1}/{NUM_EPOCHS}\")\n",
    "    for i, (images, labels) in pbar:\n",
    "        images = images.to(device)\n",
    "        labels = labels.to(device).float()\n",
    "\n",
    "        # Forward pass\n",
    "        preds = model(images).reshape(BATCH_SIZE)\n",
    "\n",
    "        # Calculate loss and accuracy\n",
    "        total_correct += num_correct(preds, labels)\n",
    "        batch_loss = loss_fn(preds, labels)\n",
    "        total_loss += batch_loss\n",
    "\n",
    "        # Backprop\n",
    "        optimizer.zero_grad()\n",
    "        batch_loss.backward()\n",
    "        optimizer.step()\n",
    "        warmup_scheduler.step()\n",
    "\n",
    "    avg_loss = total_loss.item() / (len(train_dataloader) * BATCH_SIZE)\n",
    "    accuracy = total_correct / (len(train_dataloader) * BATCH_SIZE)\n",
    "\n",
    "    return avg_loss, accuracy\n",
    "\n",
    "\n",
    "def val_epoch(model, loss_fn, val_dataloader, epoch):\n",
    "    model.eval()\n",
    "    \n",
    "    total_loss = 0\n",
    "    total_correct = 0\n",
    "    pbar = tqdm(enumerate(val_dataloader))\n",
    "    pbar.set_description(f\"Epoch {epoch+1}/{NUM_EPOCHS}\")\n",
    "    for i, (images, labels) in pbar:\n",
    "        images = images.to(device)\n",
    "        labels = labels.to(device).float()\n",
    "\n",
    "        # Forward pass\n",
    "        preds = model(images).reshape(BATCH_SIZE)\n",
    "\n",
    "        # Calculate loss and accuracy\n",
    "        total_correct += num_correct(preds, labels)\n",
    "        batch_loss = loss_fn(preds, labels)\n",
    "        total_loss += batch_loss\n",
    "\n",
    "    avg_loss = total_loss.item() / (len(val_dataloader) * BATCH_SIZE)\n",
    "    accuracy = total_correct / (len(val_dataloader) * BATCH_SIZE)\n",
    "\n",
    "    return avg_loss, accuracy\n",
    "        \n",
    "def train(model, optimizer, loss_fn, num_epochs):\n",
    "    for epoch in range(num_epochs):\n",
    "        # Training\n",
    "        train_loss, train_acc = train_epoch(model, optimizer, loss_fn, train_dataloader, epoch)\n",
    "        val_loss, val_acc = val_epoch(model, loss_fn, val_dataloader, epoch)\n",
    "        info = {'train_acc': train_acc,\n",
    "                'train_loss': train_loss,\n",
    "                'val_acc': val_acc,\n",
    "                'val_loss': val_loss}\n",
    "        wandb.log(info)\n",
    "        print(info)\n",
    "        print()\n",
    "    wandb.finish()\n",
    "    save_path = f'./checkpoints/final_finetune.pt'\n",
    "    torch.save({\n",
    "        'epoch': num_epochs,\n",
    "        'model_state_dict': model.state_dict(),\n",
    "        'optimizer_state_dict': optimizer.state_dict(),\n",
    "    }, save_path)\n",
    "\n"
   ]
  },
  {
   "cell_type": "markdown",
   "metadata": {},
   "source": [
    "Run training"
   ]
  },
  {
   "cell_type": "code",
   "execution_count": 16,
   "metadata": {},
   "outputs": [],
   "source": [
    "train(model, optimizer, loss_fn, NUM_EPOCHS)"
   ]
  },
  {
   "cell_type": "markdown",
   "metadata": {},
   "source": [
    "Evaluate trained model on test dataset"
   ]
  },
  {
   "cell_type": "code",
   "execution_count": null,
   "metadata": {},
   "outputs": [],
   "source": [
    "device = torch.device('cuda' if torch.cuda.is_available() else 'cpu')\n",
    "print('Using device:', device)\n",
    "\n",
    "test_path = '/datasets/chest_xray/test/'\n",
    "test_data = PneumoniaDataset(test_path, VAL_TRANSFORM)\n",
    "test_dataloader = DataLoader(test_data, batch_size=BATCH_SIZE, drop_last=True)\n",
    "\n",
    "model = models.resnet18(weights=None)\n",
    "model.fc = nn.Sequential(nn.Flatten(),\n",
    "    nn.Linear(512, 128),\n",
    "    nn.ReLU(),\n",
    "    nn.Linear(128, 1),\n",
    "    nn.Sigmoid()\n",
    ")\n",
    "checkpoint = torch.load('./checkpoints/final_finetune.pt')\n",
    "model.load_state_dict(checkpoint['model_state_dict'])\n",
    "model.eval()\n",
    "\n",
    "total_loss = 0\n",
    "total_correct = 0\n",
    "pbar = tqdm(test_dataloader)\n",
    "for (images, labels) in pbar:\n",
    "    images = images\n",
    "    labels = labels.float()\n",
    "\n",
    "    # Forward pass\n",
    "    preds = model(images).reshape(BATCH_SIZE)\n",
    "\n",
    "    # Calculate accuracy\n",
    "    total_correct += num_correct(preds, labels)\n",
    "\n",
    "accuracy = total_correct / (len(test_dataloader) * BATCH_SIZE)\n",
    "print(f\"Accuracy on test set: {accuracy:.2%}\")"
   ]
  }
 ],
 "metadata": {
  "kernelspec": {
   "display_name": "resnet",
   "language": "python",
   "name": "python3"
  },
  "language_info": {
   "codemirror_mode": {
    "name": "ipython",
    "version": 3
   },
   "file_extension": ".py",
   "mimetype": "text/x-python",
   "name": "python",
   "nbconvert_exporter": "python",
   "pygments_lexer": "ipython3",
   "version": "3.12.2"
  }
 },
 "nbformat": 4,
 "nbformat_minor": 2
}
